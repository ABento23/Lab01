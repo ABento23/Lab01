{
 "cells": [
  {
   "cell_type": "code",
   "execution_count": null,
   "metadata": {},
   "outputs": [],
   "source": [
    "#1)\n",
    "x = 9.0\n",
    "print('x is an integer: ', type(x)==int) #x%1==0"
   ]
  },
  {
   "cell_type": "code",
   "execution_count": null,
   "metadata": {},
   "outputs": [],
   "source": [
    "#2)\n",
    "y = 6\n",
    "print('y is even: ', y%2==0)"
   ]
  },
  {
   "cell_type": "code",
   "execution_count": null,
   "metadata": {},
   "outputs": [],
   "source": [
    "#3)\n",
    "w = 5\n",
    "z = 9\n",
    "print(w, 'is greater than', z, ':', w>z)"
   ]
  },
  {
   "cell_type": "code",
   "execution_count": null,
   "metadata": {},
   "outputs": [],
   "source": [
    "#4)\n",
    "a = 10\n",
    "b = 5\n",
    "print(a, 'is a multiple of', b, ':', a%b==0 or b%a==0)"
   ]
  },
  {
   "cell_type": "code",
   "execution_count": null,
   "metadata": {},
   "outputs": [],
   "source": [
    "#5)\n",
    "capital = 200\n",
    "rate = 0.03\n",
    "time = 3\n",
    "I = capital * rate * time\n",
    "print(I)"
   ]
  },
  {
   "cell_type": "code",
   "execution_count": null,
   "metadata": {},
   "outputs": [],
   "source": [
    "#6)\n",
    "C = capital * (1+rate)**time\n",
    "print(C)"
   ]
  },
  {
   "cell_type": "code",
   "execution_count": null,
   "metadata": {},
   "outputs": [],
   "source": [
    "#7)\n",
    "mass = 66\n",
    "height = 1.85\n",
    "BMI = mass / height**2\n",
    "print(BMI)"
   ]
  },
  {
   "cell_type": "code",
   "execution_count": 10,
   "metadata": {},
   "outputs": [
    {
     "name": "stdout",
     "output_type": "stream",
     "text": [
      "1.618033988749895\n",
      "1.618033988749895\n"
     ]
    }
   ],
   "source": [
    "#8) 1.\n",
    "gr1 = (1 + 5**0.5)/2\n",
    "print(gr1)\n",
    "\n",
    "#8) 2.\n",
    "import math\n",
    "gr2 = (1 + math.sqrt(5))/2\n",
    "print(gr2)"
   ]
  },
  {
   "cell_type": "code",
   "execution_count": 11,
   "metadata": {},
   "outputs": [
    {
     "name": "stdout",
     "output_type": "stream",
     "text": [
      "3139.440301519393\n"
     ]
    }
   ],
   "source": [
    "#9)\n",
    "NPV = 2000/1.1 + 3000/1.1**2 + 4000*(1/1.1**3 + 1/1.1**4) + 5000/1.1**5 - 10000\n",
    "print(NPV)"
   ]
  },
  {
   "cell_type": "code",
   "execution_count": null,
   "metadata": {},
   "outputs": [],
   "source": [
    "#10) 1.\n",
    "answer_name1 = input('Insert your name ')\n",
    "answer_age1 = int(input('Insert your age '))\n",
    "\n",
    "year_birth1 = 2020 - answer_age1\n",
    "\n",
    "print(answer_name1, ' was born in ', year_birth1)\n",
    "\n",
    "#10) 2.\n",
    "from datetime import date\n",
    "today = date.today()\n",
    "\n",
    "answer_name2 = input('Insert your name ')\n",
    "answer_age2 = int(input('Insert your age '))\n",
    "\n",
    "year_birth2 = today.year - answer_age2\n",
    "\n",
    "print(answer_name2, ' was born in ', year_birth2)"
   ]
  },
  {
   "cell_type": "code",
   "execution_count": null,
   "metadata": {},
   "outputs": [],
   "source": [
    "#11)\n",
    "forenames = input('Insert your fornames ')\n",
    "surnames = input('Insert your surnames ')\n",
    "\n",
    "fullname = forenames+' '+surnames\n",
    "\n",
    "nameBig = fullname.upper()\n",
    "nameSmall = fullname.lower()\n",
    "nameTitle = fullname.title()\n",
    "nameCapitalized = fullname.capitalize()\n",
    "\n",
    "print(nameBig)\n",
    "print(nameSmall)\n",
    "print(nameTitle)\n",
    "print(nameCapitalized)"
   ]
  },
  {
   "cell_type": "code",
   "execution_count": 12,
   "metadata": {},
   "outputs": [
    {
     "name": "stdout",
     "output_type": "stream",
     "text": [
      "7\n"
     ]
    }
   ],
   "source": [
    "#12)\n",
    "word = 'esquerda'\n",
    "first = word.find('da',0,len(word))\n",
    "print(first+1)\n",
    "\n",
    "#If the content of sub is not found, it returns -1"
   ]
  },
  {
   "cell_type": "code",
   "execution_count": null,
   "metadata": {},
   "outputs": [],
   "source": []
  }
 ],
 "metadata": {
  "kernelspec": {
   "display_name": "Python 3",
   "language": "python",
   "name": "python3"
  },
  "language_info": {
   "codemirror_mode": {
    "name": "ipython",
    "version": 3
   },
   "file_extension": ".py",
   "mimetype": "text/x-python",
   "name": "python",
   "nbconvert_exporter": "python",
   "pygments_lexer": "ipython3",
   "version": "3.7.3"
  }
 },
 "nbformat": 4,
 "nbformat_minor": 4
}
